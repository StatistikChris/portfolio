{
 "cells": [
  {
   "cell_type": "code",
   "execution_count": 1,
   "metadata": {
    "collapsed": true
   },
   "outputs": [],
   "source": [
    "import pandas as pd\n",
    "import numpy as np\n",
    "from sklearn import svm\n",
    "\n",
    "import matplotlib.pyplot as plt\n",
    "% matplotlib inline\n",
    "from matplotlib import mlab"
   ]
  },
  {
   "cell_type": "code",
   "execution_count": 2,
   "metadata": {
    "collapsed": false
   },
   "outputs": [
    {
     "data": {
      "text/html": [
       "<div>\n",
       "<table border=\"1\" class=\"dataframe\">\n",
       "  <thead>\n",
       "    <tr style=\"text-align: right;\">\n",
       "      <th></th>\n",
       "      <th>V1</th>\n",
       "      <th>V2</th>\n",
       "      <th>V3</th>\n",
       "      <th>V4</th>\n",
       "      <th>V5</th>\n",
       "      <th>V6</th>\n",
       "      <th>V7</th>\n",
       "      <th>V8</th>\n",
       "      <th>V9</th>\n",
       "      <th>V10</th>\n",
       "      <th>...</th>\n",
       "      <th>V22</th>\n",
       "      <th>V23</th>\n",
       "      <th>V24</th>\n",
       "      <th>V25</th>\n",
       "      <th>V26</th>\n",
       "      <th>V27</th>\n",
       "      <th>V28</th>\n",
       "      <th>Amount</th>\n",
       "      <th>Class</th>\n",
       "      <th>Amount_norm</th>\n",
       "    </tr>\n",
       "  </thead>\n",
       "  <tbody>\n",
       "    <tr>\n",
       "      <th>0</th>\n",
       "      <td>-1.836940</td>\n",
       "      <td>-1.646764</td>\n",
       "      <td>-3.381168</td>\n",
       "      <td>0.473354</td>\n",
       "      <td>0.074243</td>\n",
       "      <td>-0.446751</td>\n",
       "      <td>3.791907</td>\n",
       "      <td>-1.351045</td>\n",
       "      <td>0.095186</td>\n",
       "      <td>-0.084500</td>\n",
       "      <td>...</td>\n",
       "      <td>1.786681</td>\n",
       "      <td>-0.151178</td>\n",
       "      <td>-0.582098</td>\n",
       "      <td>-0.956062</td>\n",
       "      <td>-0.334369</td>\n",
       "      <td>0.715600</td>\n",
       "      <td>0.370450</td>\n",
       "      <td>720.80</td>\n",
       "      <td>1</td>\n",
       "      <td>2.625216</td>\n",
       "    </tr>\n",
       "    <tr>\n",
       "      <th>1</th>\n",
       "      <td>1.140431</td>\n",
       "      <td>1.134243</td>\n",
       "      <td>-1.429455</td>\n",
       "      <td>2.012226</td>\n",
       "      <td>0.622800</td>\n",
       "      <td>-1.152923</td>\n",
       "      <td>0.221159</td>\n",
       "      <td>0.037372</td>\n",
       "      <td>0.034486</td>\n",
       "      <td>-1.879644</td>\n",
       "      <td>...</td>\n",
       "      <td>-0.891627</td>\n",
       "      <td>-0.160578</td>\n",
       "      <td>-0.108326</td>\n",
       "      <td>0.668374</td>\n",
       "      <td>-0.352393</td>\n",
       "      <td>0.071993</td>\n",
       "      <td>0.113684</td>\n",
       "      <td>1.00</td>\n",
       "      <td>1</td>\n",
       "      <td>-0.360630</td>\n",
       "    </tr>\n",
       "    <tr>\n",
       "      <th>2</th>\n",
       "      <td>-1.125092</td>\n",
       "      <td>3.682876</td>\n",
       "      <td>-6.556168</td>\n",
       "      <td>4.016731</td>\n",
       "      <td>-0.425571</td>\n",
       "      <td>-2.031210</td>\n",
       "      <td>-2.650137</td>\n",
       "      <td>1.131249</td>\n",
       "      <td>-2.946890</td>\n",
       "      <td>-4.816401</td>\n",
       "      <td>...</td>\n",
       "      <td>1.348156</td>\n",
       "      <td>-0.053686</td>\n",
       "      <td>0.284122</td>\n",
       "      <td>-1.174469</td>\n",
       "      <td>-0.087832</td>\n",
       "      <td>0.718790</td>\n",
       "      <td>0.676216</td>\n",
       "      <td>0.76</td>\n",
       "      <td>1</td>\n",
       "      <td>-0.361625</td>\n",
       "    </tr>\n",
       "    <tr>\n",
       "      <th>3</th>\n",
       "      <td>1.243848</td>\n",
       "      <td>0.524526</td>\n",
       "      <td>-0.538884</td>\n",
       "      <td>1.209196</td>\n",
       "      <td>0.479538</td>\n",
       "      <td>-0.197429</td>\n",
       "      <td>0.049166</td>\n",
       "      <td>0.037792</td>\n",
       "      <td>0.128119</td>\n",
       "      <td>-0.552903</td>\n",
       "      <td>...</td>\n",
       "      <td>-0.084089</td>\n",
       "      <td>-0.192846</td>\n",
       "      <td>-0.917392</td>\n",
       "      <td>0.681953</td>\n",
       "      <td>-0.194419</td>\n",
       "      <td>0.045917</td>\n",
       "      <td>0.040136</td>\n",
       "      <td>1.00</td>\n",
       "      <td>1</td>\n",
       "      <td>-0.360630</td>\n",
       "    </tr>\n",
       "    <tr>\n",
       "      <th>4</th>\n",
       "      <td>-7.381547</td>\n",
       "      <td>-7.449015</td>\n",
       "      <td>-4.696287</td>\n",
       "      <td>3.728439</td>\n",
       "      <td>6.198304</td>\n",
       "      <td>-6.406267</td>\n",
       "      <td>-5.831452</td>\n",
       "      <td>1.457175</td>\n",
       "      <td>-0.646203</td>\n",
       "      <td>-4.029129</td>\n",
       "      <td>...</td>\n",
       "      <td>-0.978692</td>\n",
       "      <td>-0.278330</td>\n",
       "      <td>-0.635874</td>\n",
       "      <td>0.123539</td>\n",
       "      <td>0.404729</td>\n",
       "      <td>0.704915</td>\n",
       "      <td>-1.229992</td>\n",
       "      <td>35.00</td>\n",
       "      <td>1</td>\n",
       "      <td>-0.219592</td>\n",
       "    </tr>\n",
       "  </tbody>\n",
       "</table>\n",
       "<p>5 rows × 31 columns</p>\n",
       "</div>"
      ],
      "text/plain": [
       "         V1        V2        V3        V4        V5        V6        V7  \\\n",
       "0 -1.836940 -1.646764 -3.381168  0.473354  0.074243 -0.446751  3.791907   \n",
       "1  1.140431  1.134243 -1.429455  2.012226  0.622800 -1.152923  0.221159   \n",
       "2 -1.125092  3.682876 -6.556168  4.016731 -0.425571 -2.031210 -2.650137   \n",
       "3  1.243848  0.524526 -0.538884  1.209196  0.479538 -0.197429  0.049166   \n",
       "4 -7.381547 -7.449015 -4.696287  3.728439  6.198304 -6.406267 -5.831452   \n",
       "\n",
       "         V8        V9       V10     ...            V22       V23       V24  \\\n",
       "0 -1.351045  0.095186 -0.084500     ...       1.786681 -0.151178 -0.582098   \n",
       "1  0.037372  0.034486 -1.879644     ...      -0.891627 -0.160578 -0.108326   \n",
       "2  1.131249 -2.946890 -4.816401     ...       1.348156 -0.053686  0.284122   \n",
       "3  0.037792  0.128119 -0.552903     ...      -0.084089 -0.192846 -0.917392   \n",
       "4  1.457175 -0.646203 -4.029129     ...      -0.978692 -0.278330 -0.635874   \n",
       "\n",
       "        V25       V26       V27       V28  Amount  Class  Amount_norm  \n",
       "0 -0.956062 -0.334369  0.715600  0.370450  720.80      1     2.625216  \n",
       "1  0.668374 -0.352393  0.071993  0.113684    1.00      1    -0.360630  \n",
       "2 -1.174469 -0.087832  0.718790  0.676216    0.76      1    -0.361625  \n",
       "3  0.681953 -0.194419  0.045917  0.040136    1.00      1    -0.360630  \n",
       "4  0.123539  0.404729  0.704915 -1.229992   35.00      1    -0.219592  \n",
       "\n",
       "[5 rows x 31 columns]"
      ]
     },
     "execution_count": 2,
     "metadata": {},
     "output_type": "execute_result"
    }
   ],
   "source": [
    "df = pd.read_csv(\"../data/creditcard_fraud_subsample.csv\", sep = ';')\n",
    "df = df.drop(['Time'], axis=1)\n",
    "df['Amount_norm'] = (df.Amount-df.Amount.mean())/df.Amount.std()\n",
    "df.head()"
   ]
  },
  {
   "cell_type": "code",
   "execution_count": 3,
   "metadata": {
    "collapsed": true
   },
   "outputs": [],
   "source": [
    "def train_test_fn(df , proportion):\n",
    "\n",
    "    msk = np.random.rand(len(df)) < proportion\n",
    "\n",
    "    train = df[msk]\n",
    "\n",
    "    test = df[~msk]\n",
    "    \n",
    "    return train, test"
   ]
  },
  {
   "cell_type": "code",
   "execution_count": 4,
   "metadata": {
    "collapsed": true
   },
   "outputs": [],
   "source": [
    "def frange(start, stop, step):\n",
    "     i = start\n",
    "     while i < stop:\n",
    "         yield i\n",
    "         i += step"
   ]
  },
  {
   "cell_type": "code",
   "execution_count": 5,
   "metadata": {
    "collapsed": false
   },
   "outputs": [],
   "source": [
    "train, test = train_test_fn(df , 0.6)"
   ]
  },
  {
   "cell_type": "code",
   "execution_count": 6,
   "metadata": {
    "collapsed": true
   },
   "outputs": [],
   "source": [
    "X = train.drop(['Amount','Class'], axis=1)\n",
    "y = train['Class']\n",
    "\n",
    "X_test = test.drop(['Amount','Class'], axis=1)\n",
    "y_test = test['Class']"
   ]
  },
  {
   "cell_type": "code",
   "execution_count": 7,
   "metadata": {
    "collapsed": false
   },
   "outputs": [
    {
     "name": "stdout",
     "output_type": "stream",
     "text": [
      "Accuracy: 0.998607519395\n"
     ]
    }
   ],
   "source": [
    "supvecma = svm.SVC(kernel = 'linear', C = 2)\n",
    "SVM_model = supvecma.fit(X, y)\n",
    "print('Accuracy:', np.mean(np.equal(SVM_model.predict(X_test),y_test)))"
   ]
  },
  {
   "cell_type": "code",
   "execution_count": null,
   "metadata": {
    "collapsed": false
   },
   "outputs": [],
   "source": [
    "accuracies = []\n",
    "\n",
    "proportion = 0.1\n",
    "iterations = 1000\n",
    "\n",
    "for i in range(iterations-1):\n",
    "    train, test = train_test_fn(df, proportion) \n",
    "    X = train.drop(['Amount','Class'], axis=1)\n",
    "    y = train['Class']\n",
    "    \n",
    "    supvecma = svm.SVC(kernel = 'linear', C = 2)\n",
    "    SVM_model = supvecma.fit(X, y)\n",
    "    \n",
    "\n",
    "    accuracies.append(np.mean(np.equal(SVM_model.predict(X_test),y_test))) "
   ]
  },
  {
   "cell_type": "code",
   "execution_count": null,
   "metadata": {
    "collapsed": false
   },
   "outputs": [],
   "source": [
    "plt.figure(1,figsize=(15,5))\n",
    "plt.hist(accuracies , normed = 1)\n",
    "mu = np.mean(accuracies)\n",
    "sigma = np.std(accuracies)\n",
    "x = np.linspace(mu - 3*sigma, mu + 3*sigma, 100)\n",
    "plt.plot(x,mlab.normpdf(x, mu, sigma) , color=\"black\")\n",
    "plt.title(\"accuracies histogram and normal distribution\")\n",
    "plt.xlabel(\"accuracy\")\n",
    "plt.ylabel(\"frequency\")\n",
    "plt.show()"
   ]
  },
  {
   "cell_type": "code",
   "execution_count": 8,
   "metadata": {
    "collapsed": false
   },
   "outputs": [],
   "source": [
    "accuracies = []\n",
    "proportions = []\n",
    "\n",
    "proportion = 0.1\n",
    "iterations = 3\n",
    "\n",
    "for proportion in frange(0.05,0.9,0.05):\n",
    "\n",
    "    for i in range(iterations-1):\n",
    "        train, test = train_test_fn(df, proportion) \n",
    "        X = train.drop(['Amount','Class'], axis=1)\n",
    "        y = train['Class']\n",
    "    \n",
    "        supvecma = svm.SVC(kernel = 'linear', C = 2)\n",
    "        SVM_model = supvecma.fit(X, y)\n",
    "    \n",
    "        #coeffs = coeffs.append(pd.DataFrame(logistic_model.coef_, columns=cols))\n",
    "        accuracies.append(np.mean(np.equal(SVM_model.predict(X_test),y_test))) \n",
    "        proportions.append(proportion)\n",
    "\n",
    "qualities = pd.DataFrame(list(zip(proportions,accuracies)), columns=['proportions','accuracies'])"
   ]
  },
  {
   "cell_type": "code",
   "execution_count": 9,
   "metadata": {
    "collapsed": false
   },
   "outputs": [
    {
     "data": {
      "image/png": "[encoded data removed]",
      "text/plain": [
       "<matplotlib.figure.Figure at 0x1242f8908>"
      ]
     },
     "metadata": {},
     "output_type": "display_data"
    }
   ],
   "source": [
    "plt.figure(1,figsize=(15,5))\n",
    "plt.scatter(qualities.proportions, qualities.accuracies)\n",
    "plt.title(\"accuracies against proportions\")\n",
    "plt.xlabel(\"proportion\")\n",
    "plt.ylabel(\"accuracy\")\n",
    "plt.show()"
   ]
  },
  {
   "cell_type": "code",
   "execution_count": null,
   "metadata": {
    "collapsed": true
   },
   "outputs": [],
   "source": [
    "fig, axes = plt.subplots(nrows=1, ncols=2, figsize=(20, 10))\n",
    "\n",
    "all_data = [qualities[qualities.proportions == prop]['accuracies'] for prop in frange(0.05,0.9,0.05)]\n",
    "\n",
    "# plot violin plot\n",
    "axes[0].violinplot(all_data,\n",
    "                   showmeans=False,\n",
    "                   showmedians=True)\n",
    "axes[0].set_title('Violin plot')\n",
    "\n",
    "# plot box plot\n",
    "axes[1].boxplot(all_data)\n",
    "axes[1].set_title('Box plot')\n",
    "\n",
    "# adding horizontal grid lines\n",
    "for ax in axes:\n",
    "    ax.yaxis.grid(True)\n",
    "    ax.set_xticks([y + 1 for y in range(len(all_data))])\n",
    "    ax.set_xlabel('proportions')\n",
    "    ax.set_ylabel('accuracy')\n",
    "\n",
    "# add x-tick labels\n",
    "plt.setp(axes, xticks=[y + 1 for y in range(len(all_data))]) #,\n",
    "         #xticklabels=['0.1','0.2','0.3','0.4','0.5','0.6','0.7','0.8','0.9'])\n",
    "plt.show()"
   ]
  },
  {
   "cell_type": "code",
   "execution_count": null,
   "metadata": {
    "collapsed": true
   },
   "outputs": [],
   "source": []
  },
  {
   "cell_type": "code",
   "execution_count": null,
   "metadata": {
    "collapsed": false
   },
   "outputs": [],
   "source": [
    "import matplotlib.pyplot as plt\n",
    "from scipy import integrate\n",
    "\n",
    "def capcurve(y_values, y_preds_proba):\n",
    "    num_pos_obs = np.sum(y_values)\n",
    "    num_count = len(y_values)\n",
    "    rate_pos_obs = float(num_pos_obs) / float(num_count)\n",
    "    ideal = pd.DataFrame({'x':[0,rate_pos_obs,1],'y':[0,1,1]})\n",
    "    xx = np.arange(num_count) / float(num_count - 1)\n",
    "\n",
    "    y_cap = np.c_[y_values,y_preds_proba]\n",
    "    y_cap_df_s = pd.DataFrame(data=y_cap)\n",
    "    y_cap_df_s = y_cap_df_s.sort_values([1], ascending=False).reset_index('index', drop=True)\n",
    "\n",
    "    print(y_cap_df_s.head(20))\n",
    "\n",
    "    yy = np.cumsum(y_cap_df_s[0]) / float(num_pos_obs)\n",
    "    yy = np.append([0], yy[0:num_count-1]) #add the first curve point (0,0) : for xx=0 we have yy=0\n",
    "\n",
    "    percent = 0.5\n",
    "    row_index = np.trunc(num_count * percent)\n",
    "\n",
    "    val_y1 = yy[row_index]\n",
    "    val_y2 = yy[row_index+1]\n",
    "    if val_y1 == val_y2:\n",
    "        val = val_y1*1.0\n",
    "    else:\n",
    "        val_x1 = xx[row_index]\n",
    "        val_x2 = xx[row_index+1]\n",
    "        val = val_y1 + ((val_x2 - percent)/(val_x2 - val_x1))*(val_y2 - val_y1)\n",
    "\n",
    "    sigma_ideal = 1 * xx[num_pos_obs - 1 ] / 2 + (xx[num_count - 1] - xx[num_pos_obs]) * 1\n",
    "    sigma_model = integrate.simps(yy,xx)\n",
    "    sigma_random = integrate.simps(xx,xx)\n",
    "\n",
    "    ar_value = (sigma_model - sigma_random) / (sigma_ideal - sigma_random)\n",
    "    #ar_label = 'ar value = %s' % ar_value\n",
    "\n",
    "    fig, ax = plt.subplots(nrows = 1, ncols = 1)\n",
    "    ax.plot(ideal['x'],ideal['y'], color='grey', label='Perfect Model')\n",
    "    ax.plot(xx,yy, color='red', label='User Model')\n",
    "    #ax.scatter(xx,yy, color='red')\n",
    "    ax.plot(xx,xx, color='blue', label='Random Model')\n",
    "    ax.plot([percent, percent], [0.0, val], color='green', linestyle='--', linewidth=1)\n",
    "    ax.plot([0, percent], [val, val], color='green', linestyle='--', linewidth=1, label=str(val*100)+'% of positive obs at '+str(percent*100)+'%')\n",
    "\n",
    "    plt.xlim(0, 1.02)\n",
    "    plt.ylim(0, 1.25)\n",
    "    plt.title(\"CAP Curve - a_r value =\"+str(ar_value))\n",
    "    plt.xlabel('% of the data')\n",
    "    plt.ylabel('% of positive obs')\n",
    "    plt.legend()\n",
    "    plt.show()"
   ]
  },
  {
   "cell_type": "code",
   "execution_count": null,
   "metadata": {
    "collapsed": false
   },
   "outputs": [],
   "source": [
    "y_pred_proba = supvecma.predict_proba(X=X_test)\n",
    "capcurve(y_values=y_test, y_preds_proba=y_pred_proba[:,1])"
   ]
  },
  {
   "cell_type": "code",
   "execution_count": null,
   "metadata": {
    "collapsed": true
   },
   "outputs": [],
   "source": []
  }
 ],
 "metadata": {
  "kernelspec": {
   "display_name": "Python 3",
   "language": "python",
   "name": "python3"
  },
  "language_info": {
   "codemirror_mode": {
    "name": "ipython",
    "version": 3
   },
   "file_extension": ".py",
   "mimetype": "text/x-python",
   "name": "python",
   "nbconvert_exporter": "python",
   "pygments_lexer": "ipython3",
   "version": "3.5.1"
  }
 },
 "nbformat": 4,
 "nbformat_minor": 2
}
