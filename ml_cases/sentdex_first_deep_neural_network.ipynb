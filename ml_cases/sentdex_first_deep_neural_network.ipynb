{
 "cells": [
  {
   "cell_type": "code",
   "execution_count": 7,
   "metadata": {
    "collapsed": true
   },
   "outputs": [],
   "source": [
    "import tensorflow as tf"
   ]
  },
  {
   "cell_type": "code",
   "execution_count": null,
   "metadata": {
    "collapsed": true
   },
   "outputs": [],
   "source": [
    "'''\n",
    "input > weight > hidden layer 1 (activation function) > \n",
    "weights > hidden layer 2 (activation function) > \n",
    "weights > output layer\n",
    "\n",
    "\"feed forward neural network\"\n",
    "\n",
    "compare output to intended output > cost or loss function (cross entropy)\n",
    "optimization function (optimizer) > minimize cost (AdamOptimizer...SGD, AdaGrad,....)\n",
    "\n",
    "backpropagation\n",
    "\n",
    "feed forward + backprop = epoch\n",
    "\n",
    "'''"
   ]
  },
  {
   "cell_type": "code",
   "execution_count": 1,
   "metadata": {
    "collapsed": true
   },
   "outputs": [],
   "source": [
    "from tensorflow.examples.tutorials.mnist import input_data"
   ]
  },
  {
   "cell_type": "code",
   "execution_count": 4,
   "metadata": {
    "collapsed": false
   },
   "outputs": [
    {
     "name": "stdout",
     "output_type": "stream",
     "text": [
      "Successfully downloaded train-images-idx3-ubyte.gz 9912422 bytes.\n",
      "Extracting /tmp/data/train-images-idx3-ubyte.gz\n",
      "Successfully downloaded train-labels-idx1-ubyte.gz 28881 bytes.\n",
      "Extracting /tmp/data/train-labels-idx1-ubyte.gz\n",
      "Successfully downloaded t10k-images-idx3-ubyte.gz 1648877 bytes.\n",
      "Extracting /tmp/data/t10k-images-idx3-ubyte.gz\n",
      "Successfully downloaded t10k-labels-idx1-ubyte.gz 4542 bytes.\n",
      "Extracting /tmp/data/t10k-labels-idx1-ubyte.gz\n"
     ]
    }
   ],
   "source": [
    "mnist = input_data.read_data_sets(\"/tmp/data/\", one_hot=True)"
   ]
  },
  {
   "cell_type": "code",
   "execution_count": 43,
   "metadata": {
    "collapsed": true
   },
   "outputs": [],
   "source": [
    "n_nodes_hl1 = 500\n",
    "n_nodes_hl2 = 500\n",
    "n_nodes_hl3 = 500\n",
    "\n",
    "n_classes = 10\n",
    "batch_size = 100"
   ]
  },
  {
   "cell_type": "code",
   "execution_count": 44,
   "metadata": {
    "collapsed": false
   },
   "outputs": [],
   "source": [
    "# height * width\n",
    "x = tf.placeholder('float', [None, 784])\n",
    "y = tf.placeholder('float')\n",
    "\n",
    "def neural_network_model(data):\n",
    "    # will create random weights per input and per neuron in hl1\n",
    "    # input_data * weights + biases , benefits: in trivial case of input_data=0 no neuron would fire, so we add bias\n",
    "    \n",
    "    hidden_1_layer = {'weights':tf.Variable(tf.random_normal([784, n_nodes_hl1])),\n",
    "                      'biases':tf.Variable(tf.random_normal([n_nodes_hl1]))} \n",
    "    \n",
    "    hidden_2_layer = {'weights':tf.Variable(tf.random_normal([n_nodes_hl1, n_nodes_hl2])),\n",
    "                      'biases':tf.Variable(tf.random_normal([n_nodes_hl2]))} \n",
    "\n",
    "    hidden_3_layer = {'weights':tf.Variable(tf.random_normal([n_nodes_hl2, n_nodes_hl3])),\n",
    "                      'biases':tf.Variable(tf.random_normal([n_nodes_hl3]))} \n",
    "\n",
    "    output_layer = {'weights':tf.Variable(tf.random_normal([n_nodes_hl3, n_classes])),\n",
    "                      'biases':tf.Variable(tf.random_normal([n_classes]))} \n",
    "    \n",
    "    l1 = tf.add(tf.matmul(data, hidden_1_layer['weights']),  hidden_1_layer['biases'])\n",
    "    l1 = tf.nn.relu(l1)\n",
    "    \n",
    "    l2 = tf.add(tf.matmul(l1, hidden_2_layer['weights']),  hidden_2_layer['biases'])\n",
    "    l2 = tf.nn.relu(l2)\n",
    "    \n",
    "    l3 = tf.add(tf.matmul(l2, hidden_3_layer['weights']),  hidden_3_layer['biases'])\n",
    "    l3 = tf.nn.relu(l3)\n",
    "    \n",
    "    output = tf.add(tf.matmul(l3, output_layer['weights']), output_layer['biases'])\n",
    "    \n",
    "    return(output)\n",
    "   \n",
    "\n",
    "    "
   ]
  },
  {
   "cell_type": "code",
   "execution_count": 45,
   "metadata": {
    "collapsed": false
   },
   "outputs": [],
   "source": [
    "def train_neural_network(x):\n",
    "    prediction = neural_network_model(x)\n",
    "    cost = tf.reduce_mean( tf.nn.softmax_cross_entropy_with_logits(logits=prediction, labels=y) )\n",
    "    # btw. optimizer has parameter learning rate ....\n",
    "    optimizer = tf.train.AdamOptimizer().minimize(cost)\n",
    "    \n",
    "    hm_epochs = 30\n",
    "    \n",
    "    with tf.Session() as sess:\n",
    "        sess.run(tf.initialize_all_variables())\n",
    "        \n",
    "        for epoch in range(hm_epochs):\n",
    "            epoch_loss = 0\n",
    "            for _ in range(int(mnist.train.num_examples/batch_size)): # _ is just a variable we dont care about\n",
    "                epoch_x, epoch_y = mnist.train.next_batch(batch_size)\n",
    "                _, c = sess.run([optimizer, cost], feed_dict = {x: epoch_x, y: epoch_y})\n",
    "                epoch_loss += c\n",
    "            print('Epoch', epoch, 'completed out of', hm_epochs, 'loss:', epoch_loss)\n",
    "            \n",
    "        correct = tf.equal( tf.argmax(prediction,1), tf.argmax(y,1))\n",
    "        accuracy = tf.reduce_mean(tf.cast(correct, 'float'))\n",
    "        print('Accuracy:', accuracy.eval({x:mnist.test.images, y:mnist.test.labels}))"
   ]
  },
  {
   "cell_type": "code",
   "execution_count": 47,
   "metadata": {
    "collapsed": false,
    "scrolled": false
   },
   "outputs": [
    {
     "name": "stdout",
     "output_type": "stream",
     "text": [
      "Epoch 0 completed out of 30 loss: 1958959.4802246094\n",
      "Epoch 1 completed out of 30 loss: 416991.71870040894\n",
      "Epoch 2 completed out of 30 loss: 223598.8226032257\n",
      "Epoch 3 completed out of 30 loss: 127636.26019582152\n",
      "Epoch 4 completed out of 30 loss: 77694.22071027756\n",
      "Epoch 5 completed out of 30 loss: 52585.20339580894\n",
      "Epoch 6 completed out of 30 loss: 33690.91151780635\n",
      "Epoch 7 completed out of 30 loss: 22870.121146649122\n",
      "Epoch 8 completed out of 30 loss: 21868.70117028898\n",
      "Epoch 9 completed out of 30 loss: 18948.25836939335\n",
      "Epoch 10 completed out of 30 loss: 19367.70172935725\n",
      "Epoch 11 completed out of 30 loss: 15310.833294568683\n",
      "Epoch 12 completed out of 30 loss: 15019.121373848318\n",
      "Epoch 13 completed out of 30 loss: 12504.596709363163\n",
      "Epoch 14 completed out of 30 loss: 11911.10046861507\n",
      "Epoch 15 completed out of 30 loss: 13413.681613787172\n",
      "Epoch 16 completed out of 30 loss: 14832.174393011723\n",
      "Epoch 17 completed out of 30 loss: 8539.36788168831\n",
      "Epoch 18 completed out of 30 loss: 11415.17990504764\n",
      "Epoch 19 completed out of 30 loss: 11077.8587134704\n",
      "Epoch 20 completed out of 30 loss: 10213.28940731287\n",
      "Epoch 21 completed out of 30 loss: 7581.627488300204\n",
      "Epoch 22 completed out of 30 loss: 8820.982181489468\n",
      "Epoch 23 completed out of 30 loss: 8678.189598172903\n",
      "Epoch 24 completed out of 30 loss: 7976.910954476595\n",
      "Epoch 25 completed out of 30 loss: 7665.591559164747\n",
      "Epoch 26 completed out of 30 loss: 8095.675082594156\n",
      "Epoch 27 completed out of 30 loss: 7148.310008063912\n",
      "Epoch 28 completed out of 30 loss: 6863.781976208091\n",
      "Epoch 29 completed out of 30 loss: 5880.452702110715\n",
      "Accuracy: 0.968\n"
     ]
    }
   ],
   "source": [
    "train_neural_network(x)"
   ]
  },
  {
   "cell_type": "code",
   "execution_count": null,
   "metadata": {
    "collapsed": true
   },
   "outputs": [],
   "source": []
  }
 ],
 "metadata": {
  "kernelspec": {
   "display_name": "Python 3",
   "language": "python",
   "name": "python3"
  },
  "language_info": {
   "codemirror_mode": {
    "name": "ipython",
    "version": 3
   },
   "file_extension": ".py",
   "mimetype": "text/x-python",
   "name": "python",
   "nbconvert_exporter": "python",
   "pygments_lexer": "ipython3",
   "version": "3.5.1"
  }
 },
 "nbformat": 4,
 "nbformat_minor": 2
}
