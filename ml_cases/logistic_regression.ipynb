{
 "cells": [
  {
   "cell_type": "markdown",
   "metadata": {},
   "source": [
    "# Logistic Regression\n",
    "\n",
    "content\n",
    "\n",
    "1. theory\n",
    "\n",
    "    - model\n",
    "    - when to use\n",
    "    - assumptions\n",
    "    - goodness of fit\n",
    "    - assymptotics\n",
    "    - pros and cons\n",
    "    - alternatives\n",
    "\n",
    "2. computational example \"creditcard_fraud\"\n",
    "\n",
    "    - describe Dataset\n",
    "    - load and prepare data\n",
    "    - define functions\n",
    "    - computation\n",
    "    - goodness of fit\n",
    "\n",
    "3. business cases"
   ]
  },
  {
   "cell_type": "markdown",
   "metadata": {},
   "source": [
    "## 2. computational example \"creditcard_fraud\"\n",
    "\n",
    "The dataset provides infromation of creditcard holders with a dummy variable for fraud (Class). The original information has been mapped to principal components by PCA for privacy reasons.\n",
    "\n",
    "Can we predict the case of fraud out of these principal components?"
   ]
  },
  {
   "cell_type": "code",
   "execution_count": 1,
   "metadata": {
    "collapsed": true
   },
   "outputs": [],
   "source": [
    "import pandas as pd\n",
    "import numpy as np\n",
    "import sklearn\n",
    "from sklearn.linear_model import LogisticRegression\n",
    "\n",
    "import matplotlib.pyplot as plt\n",
    "% matplotlib inline\n",
    "from matplotlib import mlab"
   ]
  },
  {
   "cell_type": "code",
   "execution_count": 2,
   "metadata": {
    "collapsed": false
   },
   "outputs": [
    {
     "data": {
      "text/html": [
       "<div>\n",
       "<table border=\"1\" class=\"dataframe\">\n",
       "  <thead>\n",
       "    <tr style=\"text-align: right;\">\n",
       "      <th></th>\n",
       "      <th>Time</th>\n",
       "      <th>V1</th>\n",
       "      <th>V2</th>\n",
       "      <th>V3</th>\n",
       "      <th>V4</th>\n",
       "      <th>V5</th>\n",
       "      <th>V6</th>\n",
       "      <th>V7</th>\n",
       "      <th>V8</th>\n",
       "      <th>V9</th>\n",
       "      <th>...</th>\n",
       "      <th>V21</th>\n",
       "      <th>V22</th>\n",
       "      <th>V23</th>\n",
       "      <th>V24</th>\n",
       "      <th>V25</th>\n",
       "      <th>V26</th>\n",
       "      <th>V27</th>\n",
       "      <th>V28</th>\n",
       "      <th>Amount</th>\n",
       "      <th>Class</th>\n",
       "    </tr>\n",
       "  </thead>\n",
       "  <tbody>\n",
       "    <tr>\n",
       "      <th>0</th>\n",
       "      <td>129095.0</td>\n",
       "      <td>-1.836940</td>\n",
       "      <td>-1.646764</td>\n",
       "      <td>-3.381168</td>\n",
       "      <td>0.473354</td>\n",
       "      <td>0.074243</td>\n",
       "      <td>-0.446751</td>\n",
       "      <td>3.791907</td>\n",
       "      <td>-1.351045</td>\n",
       "      <td>0.095186</td>\n",
       "      <td>...</td>\n",
       "      <td>0.010663</td>\n",
       "      <td>1.786681</td>\n",
       "      <td>-0.151178</td>\n",
       "      <td>-0.582098</td>\n",
       "      <td>-0.956062</td>\n",
       "      <td>-0.334369</td>\n",
       "      <td>0.715600</td>\n",
       "      <td>0.370450</td>\n",
       "      <td>720.80</td>\n",
       "      <td>1</td>\n",
       "    </tr>\n",
       "    <tr>\n",
       "      <th>1</th>\n",
       "      <td>69394.0</td>\n",
       "      <td>1.140431</td>\n",
       "      <td>1.134243</td>\n",
       "      <td>-1.429455</td>\n",
       "      <td>2.012226</td>\n",
       "      <td>0.622800</td>\n",
       "      <td>-1.152923</td>\n",
       "      <td>0.221159</td>\n",
       "      <td>0.037372</td>\n",
       "      <td>0.034486</td>\n",
       "      <td>...</td>\n",
       "      <td>-0.367136</td>\n",
       "      <td>-0.891627</td>\n",
       "      <td>-0.160578</td>\n",
       "      <td>-0.108326</td>\n",
       "      <td>0.668374</td>\n",
       "      <td>-0.352393</td>\n",
       "      <td>0.071993</td>\n",
       "      <td>0.113684</td>\n",
       "      <td>1.00</td>\n",
       "      <td>1</td>\n",
       "    </tr>\n",
       "    <tr>\n",
       "      <th>2</th>\n",
       "      <td>148476.0</td>\n",
       "      <td>-1.125092</td>\n",
       "      <td>3.682876</td>\n",
       "      <td>-6.556168</td>\n",
       "      <td>4.016731</td>\n",
       "      <td>-0.425571</td>\n",
       "      <td>-2.031210</td>\n",
       "      <td>-2.650137</td>\n",
       "      <td>1.131249</td>\n",
       "      <td>-2.946890</td>\n",
       "      <td>...</td>\n",
       "      <td>1.185580</td>\n",
       "      <td>1.348156</td>\n",
       "      <td>-0.053686</td>\n",
       "      <td>0.284122</td>\n",
       "      <td>-1.174469</td>\n",
       "      <td>-0.087832</td>\n",
       "      <td>0.718790</td>\n",
       "      <td>0.676216</td>\n",
       "      <td>0.76</td>\n",
       "      <td>1</td>\n",
       "    </tr>\n",
       "    <tr>\n",
       "      <th>3</th>\n",
       "      <td>48533.0</td>\n",
       "      <td>1.243848</td>\n",
       "      <td>0.524526</td>\n",
       "      <td>-0.538884</td>\n",
       "      <td>1.209196</td>\n",
       "      <td>0.479538</td>\n",
       "      <td>-0.197429</td>\n",
       "      <td>0.049166</td>\n",
       "      <td>0.037792</td>\n",
       "      <td>0.128119</td>\n",
       "      <td>...</td>\n",
       "      <td>-0.051660</td>\n",
       "      <td>-0.084089</td>\n",
       "      <td>-0.192846</td>\n",
       "      <td>-0.917392</td>\n",
       "      <td>0.681953</td>\n",
       "      <td>-0.194419</td>\n",
       "      <td>0.045917</td>\n",
       "      <td>0.040136</td>\n",
       "      <td>1.00</td>\n",
       "      <td>1</td>\n",
       "    </tr>\n",
       "    <tr>\n",
       "      <th>4</th>\n",
       "      <td>154493.0</td>\n",
       "      <td>-7.381547</td>\n",
       "      <td>-7.449015</td>\n",
       "      <td>-4.696287</td>\n",
       "      <td>3.728439</td>\n",
       "      <td>6.198304</td>\n",
       "      <td>-6.406267</td>\n",
       "      <td>-5.831452</td>\n",
       "      <td>1.457175</td>\n",
       "      <td>-0.646203</td>\n",
       "      <td>...</td>\n",
       "      <td>1.176575</td>\n",
       "      <td>-0.978692</td>\n",
       "      <td>-0.278330</td>\n",
       "      <td>-0.635874</td>\n",
       "      <td>0.123539</td>\n",
       "      <td>0.404729</td>\n",
       "      <td>0.704915</td>\n",
       "      <td>-1.229992</td>\n",
       "      <td>35.00</td>\n",
       "      <td>1</td>\n",
       "    </tr>\n",
       "  </tbody>\n",
       "</table>\n",
       "<p>5 rows × 31 columns</p>\n",
       "</div>"
      ],
      "text/plain": [
       "       Time        V1        V2        V3        V4        V5        V6  \\\n",
       "0  129095.0 -1.836940 -1.646764 -3.381168  0.473354  0.074243 -0.446751   \n",
       "1   69394.0  1.140431  1.134243 -1.429455  2.012226  0.622800 -1.152923   \n",
       "2  148476.0 -1.125092  3.682876 -6.556168  4.016731 -0.425571 -2.031210   \n",
       "3   48533.0  1.243848  0.524526 -0.538884  1.209196  0.479538 -0.197429   \n",
       "4  154493.0 -7.381547 -7.449015 -4.696287  3.728439  6.198304 -6.406267   \n",
       "\n",
       "         V7        V8        V9  ...         V21       V22       V23  \\\n",
       "0  3.791907 -1.351045  0.095186  ...    0.010663  1.786681 -0.151178   \n",
       "1  0.221159  0.037372  0.034486  ...   -0.367136 -0.891627 -0.160578   \n",
       "2 -2.650137  1.131249 -2.946890  ...    1.185580  1.348156 -0.053686   \n",
       "3  0.049166  0.037792  0.128119  ...   -0.051660 -0.084089 -0.192846   \n",
       "4 -5.831452  1.457175 -0.646203  ...    1.176575 -0.978692 -0.278330   \n",
       "\n",
       "        V24       V25       V26       V27       V28  Amount  Class  \n",
       "0 -0.582098 -0.956062 -0.334369  0.715600  0.370450  720.80      1  \n",
       "1 -0.108326  0.668374 -0.352393  0.071993  0.113684    1.00      1  \n",
       "2  0.284122 -1.174469 -0.087832  0.718790  0.676216    0.76      1  \n",
       "3 -0.917392  0.681953 -0.194419  0.045917  0.040136    1.00      1  \n",
       "4 -0.635874  0.123539  0.404729  0.704915 -1.229992   35.00      1  \n",
       "\n",
       "[5 rows x 31 columns]"
      ]
     },
     "execution_count": 2,
     "metadata": {},
     "output_type": "execute_result"
    }
   ],
   "source": [
    "df = pd.read_csv(\"../data/creditcard_fraud_subsample.csv\", sep = ';')\n",
    "df.head()"
   ]
  },
  {
   "cell_type": "markdown",
   "metadata": {},
   "source": [
    "Remove the feature 'Time' from the dataset and standardize the feature 'Amount' by substracting the mean and scaling to unit variance."
   ]
  },
  {
   "cell_type": "code",
   "execution_count": 3,
   "metadata": {
    "collapsed": false
   },
   "outputs": [
    {
     "data": {
      "text/html": [
       "<div>\n",
       "<table border=\"1\" class=\"dataframe\">\n",
       "  <thead>\n",
       "    <tr style=\"text-align: right;\">\n",
       "      <th></th>\n",
       "      <th>V1</th>\n",
       "      <th>V2</th>\n",
       "      <th>V3</th>\n",
       "      <th>V4</th>\n",
       "      <th>V5</th>\n",
       "      <th>V6</th>\n",
       "      <th>V7</th>\n",
       "      <th>V8</th>\n",
       "      <th>V9</th>\n",
       "      <th>V10</th>\n",
       "      <th>...</th>\n",
       "      <th>V22</th>\n",
       "      <th>V23</th>\n",
       "      <th>V24</th>\n",
       "      <th>V25</th>\n",
       "      <th>V26</th>\n",
       "      <th>V27</th>\n",
       "      <th>V28</th>\n",
       "      <th>Amount</th>\n",
       "      <th>Class</th>\n",
       "      <th>Amount_norm</th>\n",
       "    </tr>\n",
       "  </thead>\n",
       "  <tbody>\n",
       "    <tr>\n",
       "      <th>0</th>\n",
       "      <td>-1.836940</td>\n",
       "      <td>-1.646764</td>\n",
       "      <td>-3.381168</td>\n",
       "      <td>0.473354</td>\n",
       "      <td>0.074243</td>\n",
       "      <td>-0.446751</td>\n",
       "      <td>3.791907</td>\n",
       "      <td>-1.351045</td>\n",
       "      <td>0.095186</td>\n",
       "      <td>-0.084500</td>\n",
       "      <td>...</td>\n",
       "      <td>1.786681</td>\n",
       "      <td>-0.151178</td>\n",
       "      <td>-0.582098</td>\n",
       "      <td>-0.956062</td>\n",
       "      <td>-0.334369</td>\n",
       "      <td>0.715600</td>\n",
       "      <td>0.370450</td>\n",
       "      <td>720.80</td>\n",
       "      <td>1</td>\n",
       "      <td>2.625216</td>\n",
       "    </tr>\n",
       "    <tr>\n",
       "      <th>1</th>\n",
       "      <td>1.140431</td>\n",
       "      <td>1.134243</td>\n",
       "      <td>-1.429455</td>\n",
       "      <td>2.012226</td>\n",
       "      <td>0.622800</td>\n",
       "      <td>-1.152923</td>\n",
       "      <td>0.221159</td>\n",
       "      <td>0.037372</td>\n",
       "      <td>0.034486</td>\n",
       "      <td>-1.879644</td>\n",
       "      <td>...</td>\n",
       "      <td>-0.891627</td>\n",
       "      <td>-0.160578</td>\n",
       "      <td>-0.108326</td>\n",
       "      <td>0.668374</td>\n",
       "      <td>-0.352393</td>\n",
       "      <td>0.071993</td>\n",
       "      <td>0.113684</td>\n",
       "      <td>1.00</td>\n",
       "      <td>1</td>\n",
       "      <td>-0.360630</td>\n",
       "    </tr>\n",
       "    <tr>\n",
       "      <th>2</th>\n",
       "      <td>-1.125092</td>\n",
       "      <td>3.682876</td>\n",
       "      <td>-6.556168</td>\n",
       "      <td>4.016731</td>\n",
       "      <td>-0.425571</td>\n",
       "      <td>-2.031210</td>\n",
       "      <td>-2.650137</td>\n",
       "      <td>1.131249</td>\n",
       "      <td>-2.946890</td>\n",
       "      <td>-4.816401</td>\n",
       "      <td>...</td>\n",
       "      <td>1.348156</td>\n",
       "      <td>-0.053686</td>\n",
       "      <td>0.284122</td>\n",
       "      <td>-1.174469</td>\n",
       "      <td>-0.087832</td>\n",
       "      <td>0.718790</td>\n",
       "      <td>0.676216</td>\n",
       "      <td>0.76</td>\n",
       "      <td>1</td>\n",
       "      <td>-0.361625</td>\n",
       "    </tr>\n",
       "    <tr>\n",
       "      <th>3</th>\n",
       "      <td>1.243848</td>\n",
       "      <td>0.524526</td>\n",
       "      <td>-0.538884</td>\n",
       "      <td>1.209196</td>\n",
       "      <td>0.479538</td>\n",
       "      <td>-0.197429</td>\n",
       "      <td>0.049166</td>\n",
       "      <td>0.037792</td>\n",
       "      <td>0.128119</td>\n",
       "      <td>-0.552903</td>\n",
       "      <td>...</td>\n",
       "      <td>-0.084089</td>\n",
       "      <td>-0.192846</td>\n",
       "      <td>-0.917392</td>\n",
       "      <td>0.681953</td>\n",
       "      <td>-0.194419</td>\n",
       "      <td>0.045917</td>\n",
       "      <td>0.040136</td>\n",
       "      <td>1.00</td>\n",
       "      <td>1</td>\n",
       "      <td>-0.360630</td>\n",
       "    </tr>\n",
       "    <tr>\n",
       "      <th>4</th>\n",
       "      <td>-7.381547</td>\n",
       "      <td>-7.449015</td>\n",
       "      <td>-4.696287</td>\n",
       "      <td>3.728439</td>\n",
       "      <td>6.198304</td>\n",
       "      <td>-6.406267</td>\n",
       "      <td>-5.831452</td>\n",
       "      <td>1.457175</td>\n",
       "      <td>-0.646203</td>\n",
       "      <td>-4.029129</td>\n",
       "      <td>...</td>\n",
       "      <td>-0.978692</td>\n",
       "      <td>-0.278330</td>\n",
       "      <td>-0.635874</td>\n",
       "      <td>0.123539</td>\n",
       "      <td>0.404729</td>\n",
       "      <td>0.704915</td>\n",
       "      <td>-1.229992</td>\n",
       "      <td>35.00</td>\n",
       "      <td>1</td>\n",
       "      <td>-0.219592</td>\n",
       "    </tr>\n",
       "  </tbody>\n",
       "</table>\n",
       "<p>5 rows × 31 columns</p>\n",
       "</div>"
      ],
      "text/plain": [
       "         V1        V2        V3        V4        V5        V6        V7  \\\n",
       "0 -1.836940 -1.646764 -3.381168  0.473354  0.074243 -0.446751  3.791907   \n",
       "1  1.140431  1.134243 -1.429455  2.012226  0.622800 -1.152923  0.221159   \n",
       "2 -1.125092  3.682876 -6.556168  4.016731 -0.425571 -2.031210 -2.650137   \n",
       "3  1.243848  0.524526 -0.538884  1.209196  0.479538 -0.197429  0.049166   \n",
       "4 -7.381547 -7.449015 -4.696287  3.728439  6.198304 -6.406267 -5.831452   \n",
       "\n",
       "         V8        V9       V10     ...            V22       V23       V24  \\\n",
       "0 -1.351045  0.095186 -0.084500     ...       1.786681 -0.151178 -0.582098   \n",
       "1  0.037372  0.034486 -1.879644     ...      -0.891627 -0.160578 -0.108326   \n",
       "2  1.131249 -2.946890 -4.816401     ...       1.348156 -0.053686  0.284122   \n",
       "3  0.037792  0.128119 -0.552903     ...      -0.084089 -0.192846 -0.917392   \n",
       "4  1.457175 -0.646203 -4.029129     ...      -0.978692 -0.278330 -0.635874   \n",
       "\n",
       "        V25       V26       V27       V28  Amount  Class  Amount_norm  \n",
       "0 -0.956062 -0.334369  0.715600  0.370450  720.80      1     2.625216  \n",
       "1  0.668374 -0.352393  0.071993  0.113684    1.00      1    -0.360630  \n",
       "2 -1.174469 -0.087832  0.718790  0.676216    0.76      1    -0.361625  \n",
       "3  0.681953 -0.194419  0.045917  0.040136    1.00      1    -0.360630  \n",
       "4  0.123539  0.404729  0.704915 -1.229992   35.00      1    -0.219592  \n",
       "\n",
       "[5 rows x 31 columns]"
      ]
     },
     "execution_count": 3,
     "metadata": {},
     "output_type": "execute_result"
    }
   ],
   "source": [
    "df = df.drop(['Time'], axis=1)\n",
    "df['Amount_norm'] = (df.Amount-df.Amount.mean())/df.Amount.std()\n",
    "df.head()"
   ]
  },
  {
   "cell_type": "code",
   "execution_count": null,
   "metadata": {
    "collapsed": true
   },
   "outputs": [],
   "source": []
  },
  {
   "cell_type": "code",
   "execution_count": 4,
   "metadata": {
    "collapsed": false
   },
   "outputs": [],
   "source": [
    "def train_test_fn(df , proportion):\n",
    "\n",
    "    msk = np.random.rand(len(df)) < proportion\n",
    "\n",
    "    train = df[msk]\n",
    "\n",
    "    test = df[~msk]\n",
    "    \n",
    "    return train, test\n",
    "\n",
    "def frange(start, stop, step):\n",
    "     i = start\n",
    "     while i < stop:\n",
    "         yield i\n",
    "         i += step\n",
    "        \n",
    "def confusion_matrix_fn(truth,result):\n",
    "    c11 = sum(truth*result)\n",
    "    c10 = sum(truth*(1-result))\n",
    "    c01 = sum((1-truth)*result)\n",
    "    c00 = sum((1-truth)*(1-result))\n",
    "    tab = np.matrix([[c11, c10], [c01, c00]])\n",
    "    return tab\n",
    "\n",
    "def precision_fn(truth,result):\n",
    "    c11 = sum(truth*result)\n",
    "    #c10 = sum(truth*(1-result))\n",
    "    c01 = sum((1-truth)*result)\n",
    "    #c00 = sum((1-truth)*(1-result))\n",
    "    prec = c11/(c11+c01)\n",
    "    return prec\n",
    "\n",
    "def recall_fn(truth,result):\n",
    "    c11 = sum(truth*result)\n",
    "    c10 = sum(truth*(1-result))\n",
    "    #c01 = sum((1-truth)*result)\n",
    "    #c00 = sum((1-truth)*(1-result))\n",
    "    rec = c11/(c11+c10)\n",
    "    return rec\n",
    "\n",
    "def F_score_fn(truth,result):\n",
    "    c11 = sum(truth*result)\n",
    "    c10 = sum(truth*(1-result))\n",
    "    c01 = sum((1-truth)*result)\n",
    "    prec = c11/(c11+c01)\n",
    "    rec = c11/(c11+c10)\n",
    "    F=2/(1/prec+1/rec)\n",
    "    \n",
    "    return F"
   ]
  },
  {
   "cell_type": "code",
   "execution_count": null,
   "metadata": {
    "collapsed": true
   },
   "outputs": [],
   "source": [
    "cols = []\n",
    "for i in range(29):\n",
    "    cols.append('beta' + str(i+1))"
   ]
  },
  {
   "cell_type": "code",
   "execution_count": 5,
   "metadata": {
    "collapsed": false
   },
   "outputs": [
    {
     "ename": "NameError",
     "evalue": "name 'X_test' is not defined",
     "output_type": "error",
     "traceback": [
      "\u001b[0;31m---------------------------------------------------------------------------\u001b[0m",
      "\u001b[0;31mNameError\u001b[0m                                 Traceback (most recent call last)",
      "\u001b[0;32m<ipython-input-5-eb41a023e79c>\u001b[0m in \u001b[0;36m<module>\u001b[0;34m()\u001b[0m\n\u001b[1;32m     15\u001b[0m     \u001b[0mlogistic_model\u001b[0m \u001b[0;34m=\u001b[0m \u001b[0mlogisticRegr\u001b[0m\u001b[0;34m.\u001b[0m\u001b[0mfit\u001b[0m\u001b[0;34m(\u001b[0m\u001b[0mX\u001b[0m\u001b[0;34m,\u001b[0m \u001b[0my\u001b[0m\u001b[0;34m)\u001b[0m\u001b[0;34m\u001b[0m\u001b[0m\n\u001b[1;32m     16\u001b[0m \u001b[0;34m\u001b[0m\u001b[0m\n\u001b[0;32m---> 17\u001b[0;31m     \u001b[0my_predicted\u001b[0m \u001b[0;34m=\u001b[0m \u001b[0mlogistic_model\u001b[0m\u001b[0;34m.\u001b[0m\u001b[0mpredict\u001b[0m\u001b[0;34m(\u001b[0m\u001b[0mX_test\u001b[0m\u001b[0;34m)\u001b[0m\u001b[0;34m\u001b[0m\u001b[0m\n\u001b[0m\u001b[1;32m     18\u001b[0m     \u001b[0maccuracies\u001b[0m\u001b[0;34m.\u001b[0m\u001b[0mappend\u001b[0m\u001b[0;34m(\u001b[0m\u001b[0mnp\u001b[0m\u001b[0;34m.\u001b[0m\u001b[0mmean\u001b[0m\u001b[0;34m(\u001b[0m\u001b[0mnp\u001b[0m\u001b[0;34m.\u001b[0m\u001b[0mequal\u001b[0m\u001b[0;34m(\u001b[0m\u001b[0my_predicted\u001b[0m\u001b[0;34m,\u001b[0m\u001b[0my_test\u001b[0m\u001b[0;34m)\u001b[0m\u001b[0;34m)\u001b[0m\u001b[0;34m)\u001b[0m\u001b[0;34m\u001b[0m\u001b[0m\n\u001b[1;32m     19\u001b[0m     \u001b[0mprecisopns\u001b[0m\u001b[0;34m.\u001b[0m\u001b[0mappend\u001b[0m\u001b[0;34m(\u001b[0m\u001b[0mprecision_fn\u001b[0m\u001b[0;34m(\u001b[0m\u001b[0my_predicted\u001b[0m\u001b[0;34m,\u001b[0m\u001b[0my_test\u001b[0m\u001b[0;34m)\u001b[0m\u001b[0;34m)\u001b[0m\u001b[0;34m\u001b[0m\u001b[0m\n",
      "\u001b[0;31mNameError\u001b[0m: name 'X_test' is not defined"
     ]
    }
   ],
   "source": [
    "accuracies = []\n",
    "precisions = []\n",
    "recalls = []\n",
    "F_scores = []\n",
    "\n",
    "proportion = 0.6\n",
    "iterations = 100\n",
    "\n",
    "for i in range(iterations-1):\n",
    "    train, test = train_test_fn(df, proportion) \n",
    "    X = train.drop(['Amount','Class'], axis=1)\n",
    "    y = train['Class']\n",
    "    \n",
    "    logisticRegr = LogisticRegression(penalty = 'l2' ,solver = 'liblinear')\n",
    "    logistic_model = logisticRegr.fit(X, y) \n",
    "    \n",
    "    y_predicted = logistic_model.predict(X_test)\n",
    "    accuracies.append(np.mean(np.equal(y_predicted,y_test))) \n",
    "    precisopns.append(precision_fn(y_predicted,y_test))\n",
    "    recalls.append(recall_fn(y_predicted,y_test))\n",
    "    F_scores.append(F_score_fn(y_predicted,y_test))\n",
    "    "
   ]
  },
  {
   "cell_type": "code",
   "execution_count": null,
   "metadata": {
    "collapsed": false,
    "scrolled": true
   },
   "outputs": [],
   "source": [
    "coeffs"
   ]
  },
  {
   "cell_type": "code",
   "execution_count": null,
   "metadata": {
    "collapsed": false
   },
   "outputs": [],
   "source": [
    "\n",
    "plt.figure(1,figsize=(15,5))\n",
    "plt.hist(accuracies , normed = 1)\n",
    "mu = np.mean(accuracies)\n",
    "sigma = np.std(accuracies)\n",
    "x = np.linspace(mu - 3*sigma, mu + 3*sigma, 100)\n",
    "plt.plot(x,mlab.normpdf(x, mu, sigma) , color=\"black\")\n",
    "plt.title(\"accuracies histogram and normal distribution\")\n",
    "plt.xlabel(\"accuracy\")\n",
    "plt.ylabel(\"frequency\")\n",
    "plt.show()"
   ]
  },
  {
   "cell_type": "code",
   "execution_count": null,
   "metadata": {
    "collapsed": false
   },
   "outputs": [],
   "source": [
    "plt.figure(1,figsize=(15,5))\n",
    "plt.scatter(accuracies, coeffs.beta1)\n",
    "plt.title(\"beta1 estimates against model accuracy\")\n",
    "plt.xlabel(\"accuracy\")\n",
    "plt.ylabel(\"beta1 estimaes\")\n",
    "plt.show()"
   ]
  },
  {
   "cell_type": "code",
   "execution_count": null,
   "metadata": {
    "collapsed": false
   },
   "outputs": [],
   "source": [
    "#coeffs = pd.DataFrame([])\n",
    "accuracies = []\n",
    "proportions = []\n",
    "\n",
    "proportion = 0.1\n",
    "iterations = 100\n",
    "\n",
    "for proportion in frange(0.05,0.9,0.05):\n",
    "\n",
    "    for i in range(iterations-1):\n",
    "        train, test = train_test_fn(df, proportion) \n",
    "        X = train.drop(['Amount','Class'], axis=1)\n",
    "        y = train['Class']\n",
    "    \n",
    "        logisticRegr = LogisticRegression(penalty = 'l2' ,solver = 'liblinear')\n",
    "        logistic_model = logisticRegr.fit(X, y) \n",
    "    \n",
    "        #coeffs = coeffs.append(pd.DataFrame(logistic_model.coef_, columns=cols))\n",
    "        accuracies.append(np.mean(np.equal(logistic_model.predict(X_test),y_test))) \n",
    "        proportions.append(proportion)\n",
    "\n",
    "qualities = pd.DataFrame(list(zip(proportions,accuracies)), columns=['proportions','accuracies'])"
   ]
  },
  {
   "cell_type": "code",
   "execution_count": null,
   "metadata": {
    "collapsed": false,
    "scrolled": true
   },
   "outputs": [],
   "source": [
    "qualities"
   ]
  },
  {
   "cell_type": "code",
   "execution_count": null,
   "metadata": {
    "collapsed": false,
    "scrolled": true
   },
   "outputs": [],
   "source": [
    "plt.figure(1,figsize=(15,5))\n",
    "plt.scatter(qualities.proportions, qualities.accuracies)\n",
    "plt.title(\"accuracies against proportions\")\n",
    "plt.xlabel(\"proportion\")\n",
    "plt.ylabel(\"accuracy\")\n",
    "plt.show()"
   ]
  },
  {
   "cell_type": "code",
   "execution_count": null,
   "metadata": {
    "collapsed": true
   },
   "outputs": [],
   "source": []
  },
  {
   "cell_type": "code",
   "execution_count": null,
   "metadata": {
    "collapsed": false
   },
   "outputs": [],
   "source": [
    "matrix_logistic = confusion_matrix_fn(logistic_model.predict(X_test),y_test)\n",
    "matrix_logistic"
   ]
  },
  {
   "cell_type": "code",
   "execution_count": null,
   "metadata": {
    "collapsed": false
   },
   "outputs": [],
   "source": [
    "precision_fn(logistic_model.predict(X_test),y_test)\n",
    "recall_fn(logistic_model.predict(X_test),y_test)\n",
    "F_score_fn(logistic_model.predict(X_test),y_test)"
   ]
  },
  {
   "cell_type": "code",
   "execution_count": null,
   "metadata": {
    "collapsed": false
   },
   "outputs": [],
   "source": [
    "recall_fn(logistic_model.predict(X_test),y_test) # logistische Regression mit Formel beurteilen"
   ]
  },
  {
   "cell_type": "code",
   "execution_count": null,
   "metadata": {
    "collapsed": false
   },
   "outputs": [],
   "source": [
    "F_score_fn(logistic_model.predict(X_test),y_test) # logistische Regression mit Formel beurteilen"
   ]
  },
  {
   "cell_type": "code",
   "execution_count": null,
   "metadata": {
    "collapsed": true
   },
   "outputs": [],
   "source": []
  },
  {
   "cell_type": "code",
   "execution_count": null,
   "metadata": {
    "collapsed": true
   },
   "outputs": [],
   "source": [
    "import matplotlib.pyplot as plt\n",
    "from scipy import integrate\n",
    "\n",
    "def capcurve(y_values, y_preds_proba):\n",
    "    num_pos_obs = np.sum(y_values)\n",
    "    num_count = len(y_values)\n",
    "    rate_pos_obs = float(num_pos_obs) / float(num_count)\n",
    "    ideal = pd.DataFrame({'x':[0,rate_pos_obs,1],'y':[0,1,1]})\n",
    "    xx = np.arange(num_count) / float(num_count - 1)\n",
    "\n",
    "    y_cap = np.c_[y_values,y_preds_proba]\n",
    "    y_cap_df_s = pd.DataFrame(data=y_cap)\n",
    "    y_cap_df_s = y_cap_df_s.sort_values([1], ascending=False).reset_index('index', drop=True)\n",
    "\n",
    "    print(y_cap_df_s.head(20))\n",
    "\n",
    "    yy = np.cumsum(y_cap_df_s[0]) / float(num_pos_obs)\n",
    "    yy = np.append([0], yy[0:num_count-1]) #add the first curve point (0,0) : for xx=0 we have yy=0\n",
    "\n",
    "    percent = 0.5\n",
    "    row_index = np.trunc(num_count * percent)\n",
    "\n",
    "    val_y1 = yy[row_index]\n",
    "    val_y2 = yy[row_index+1]\n",
    "    if val_y1 == val_y2:\n",
    "        val = val_y1*1.0\n",
    "    else:\n",
    "        val_x1 = xx[row_index]\n",
    "        val_x2 = xx[row_index+1]\n",
    "        val = val_y1 + ((val_x2 - percent)/(val_x2 - val_x1))*(val_y2 - val_y1)\n",
    "\n",
    "    sigma_ideal = 1 * xx[num_pos_obs - 1 ] / 2 + (xx[num_count - 1] - xx[num_pos_obs]) * 1\n",
    "    sigma_model = integrate.simps(yy,xx)\n",
    "    sigma_random = integrate.simps(xx,xx)\n",
    "\n",
    "    ar_value = (sigma_model - sigma_random) / (sigma_ideal - sigma_random)\n",
    "    #ar_label = 'ar value = %s' % ar_value\n",
    "\n",
    "    fig, ax = plt.subplots(nrows = 1, ncols = 1)\n",
    "\n",
    "    ax.plot(ideal['x'],ideal['y'], color='grey', label='Perfect Model')\n",
    "    ax.plot(xx,yy, color='red', label='User Model')\n",
    "    #ax.scatter(xx,yy, color='red')\n",
    "    ax.plot(xx,xx, color='blue', label='Random Model')\n",
    "    ax.plot([percent, percent], [0.0, val], color='green', linestyle='--', linewidth=1)\n",
    "    ax.plot([0, percent], [val, val], color='green', linestyle='--', linewidth=1, label=str(val*100)+'% of positive obs at '+str(percent*100)+'%')\n",
    "\n",
    "    plt.xlim(0, 1.02)\n",
    "    plt.ylim(0, 1.25)\n",
    "    plt.figure(1,figsize=(15,5))\n",
    "    plt.title(\"CAP Curve - a_r value =\"+str(ar_value))\n",
    "    plt.xlabel('% of the data')\n",
    "    plt.ylabel('% of positive obs')\n",
    "    plt.legend()\n",
    "    plt.show()"
   ]
  },
  {
   "cell_type": "code",
   "execution_count": null,
   "metadata": {
    "collapsed": false
   },
   "outputs": [],
   "source": [
    "#fitting the classifier to the training set\n",
    "from sklearn.ensemble import RandomForestClassifier\n",
    "classifier = LogisticRegression(penalty = 'l2' ,solver = 'liblinear')\n",
    "classifier.fit(X, y) \n"
   ]
  },
  {
   "cell_type": "code",
   "execution_count": null,
   "metadata": {
    "collapsed": false
   },
   "outputs": [],
   "source": [
    "#Then we create the CAP Curve with the following code :\n",
    "\n",
    "y_pred_proba = classifier.predict_proba(X=X_test)\n",
    "capcurve(y_values=y_test, y_preds_proba=y_pred_proba[:,1])"
   ]
  },
  {
   "cell_type": "code",
   "execution_count": null,
   "metadata": {
    "collapsed": true
   },
   "outputs": [],
   "source": []
  },
  {
   "cell_type": "code",
   "execution_count": null,
   "metadata": {
    "collapsed": true
   },
   "outputs": [],
   "source": [
    "sklearn.metrics.roc_curve(y_true, y_score, pos_label=None, sample_weight=None, drop_intermediate=True)"
   ]
  },
  {
   "cell_type": "code",
   "execution_count": null,
   "metadata": {
    "collapsed": false
   },
   "outputs": [],
   "source": [
    "sklearn.metrics.roc_curve(y_test, logistic_model.predict(X_test), pos_label=None, sample_weight=None, drop_intermediate=True)"
   ]
  },
  {
   "cell_type": "code",
   "execution_count": null,
   "metadata": {
    "collapsed": false
   },
   "outputs": [],
   "source": [
    "# calculate the fpr and tpr for all thresholds of the classification\n",
    "probs = logistic_model.predict(X_test)\n",
    "preds = probs[:,1]\n",
    "fpr, tpr, threshold = metrics.roc_curve(y_test, preds)\n",
    "roc_auc = metrics.auc(fpr, tpr)\n",
    "\n",
    "# method I: plt\n",
    "import matplotlib.pyplot as plt\n",
    "plt.title('Receiver Operating Characteristic')\n",
    "plt.plot(fpr, tpr, 'b', label = 'AUC = %0.2f' % roc_auc)\n",
    "plt.legend(loc = 'lower right')\n",
    "plt.plot([0, 1], [0, 1],'r--')\n",
    "plt.xlim([0, 1])\n",
    "plt.ylim([0, 1])\n",
    "plt.ylabel('True Positive Rate')\n",
    "plt.xlabel('False Positive Rate')\n",
    "plt.show()\n"
   ]
  }
 ],
 "metadata": {
  "kernelspec": {
   "display_name": "Python 3",
   "language": "python",
   "name": "python3"
  },
  "language_info": {
   "codemirror_mode": {
    "name": "ipython",
    "version": 3
   },
   "file_extension": ".py",
   "mimetype": "text/x-python",
   "name": "python",
   "nbconvert_exporter": "python",
   "pygments_lexer": "ipython3",
   "version": "3.5.1"
  }
 },
 "nbformat": 4,
 "nbformat_minor": 2
}
